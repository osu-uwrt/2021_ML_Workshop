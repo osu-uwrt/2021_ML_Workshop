{
 "cells": [
  {
   "cell_type": "markdown",
   "id": "chief-moderator",
   "metadata": {},
   "source": [
    "# Intro to Machine Learning\n",
    "\n",
    "In this notebook, we will try to solve the problem of predicting tomorrow's temperature though machine learning. We will begin with simple linear regression, move on to multiple linear regression, and finally try to choose a good set of features that best predict tomorrow's temperature."
   ]
  },
  {
   "cell_type": "markdown",
   "id": "religious-division",
   "metadata": {},
   "source": [
    "## Retrieving the Data\n",
    "Let's download some weather data. We will download 2019 weather data to fit our model to and 2020 weather data to test it against. We will be getting the data using [wwo-hist](https://towardsdatascience.com/obtain-historical-weather-forecast-data-in-csv-format-using-python-5a6c090fc828). This code will take a little while to download the data."
   ]
  },
  {
   "cell_type": "code",
   "execution_count": null,
   "id": "another-essex",
   "metadata": {},
   "outputs": [],
   "source": [
    "# code here shows a sample of the weather data so the user can see the data\n",
    "# they are working with\n",
    "import pandas as pd\n",
    "import numpy as np\n",
    "from wwo_hist import retrieve_hist_data\n",
    "import matplotlib.pyplot as plt\n",
    "import csv\n",
    "from sklearn.linear_model import LinearRegression\n",
    "\n",
    "api_key = '080bb880d8ba4f43ad5231331211703'\n",
    "location_list = ['43210']\n",
    "train_data = retrieve_hist_data(api_key,\n",
    "                                location_list,\n",
    "                                '1-JAN-2019',\n",
    "                                '1-JAN-2020',\n",
    "                                24,\n",
    "                                store_df = True)[0]\n",
    "\n",
    "test_data = retrieve_hist_data(api_key,\n",
    "                                location_list,\n",
    "                                '1-JAN-2020',\n",
    "                                '1-JAN-2021',\n",
    "                                24,\n",
    "                                store_df = True)[0]\n"
   ]
  },
  {
   "source": [
    "## Examining the Data\n",
    "Let's look at the data that we just downloaded. Here are some of the data we have from 6 different days. Each column is a different type of data that we have access to."
   ],
   "cell_type": "markdown",
   "metadata": {}
  },
  {
   "cell_type": "code",
   "execution_count": null,
   "metadata": {},
   "outputs": [],
   "source": [
    "train_data.head(6)"
   ]
  },
  {
   "source": [
    "# Simple Linear Regression\n",
    "Now we will try to predict tomorrow's temperature in one of the easiest ways. Linear regression. Through linear regression, we can make predictions by simply scaling our input and adding an offset. The equation for linear regression is y = a + bx\n",
    "\n",
    "In our case, we will predict tomorrow's temperature using today's temperature. This will give us the equation\n",
    "\n",
    "Tomorrow = b * (Today) + a\n",
    "\n",
    "Using our data from 2019, we will fit this model to our data. By that, we mean that we will learn the value of a and b that best match our data."
   ],
   "cell_type": "markdown",
   "metadata": {}
  },
  {
   "source": [
    "# code to set up the 1 variable simple linear regression\n",
    "\n",
    "today_temp = list(map(int, train_data[\"tempC\"].tolist()))\n",
    "tomorrow_temp = list(map(int, train_data[\"tempC\"].tolist()))\n",
    "\n",
    "tomorrow_temp.pop(0)\n",
    "today_temp.pop()\n",
    "\n",
    "x = np.array(today_temp).reshape(-1,1)\n",
    "y = tomorrow_temp\n",
    "\n",
    "reg = LinearRegression().fit(x, y)\n",
    "\n",
    "# Points on the regression line\n",
    "xplt = np.array([min(x) - 2, max(x) + 2])          \n",
    "yplt = reg.predict(xplt)\n",
    "\n",
    "# Prints regression equation\n",
    "coefficients = reg.coef_\n",
    "coefficient = coefficients[0]\n",
    "intercept = reg.intercept_\n",
    "correlation = reg.score(x,y)\n",
    "print('slope is %f' %(coefficient))\n",
    "print('intercept is %f' %(intercept))\n",
    "print('correlation is %f' %(correlation))\n",
    "print('y-hat = %fx + %f explains about %f%% of variation' %(coefficient, intercept, correlation*100))\n",
    "\n"
   ],
   "cell_type": "code",
   "metadata": {},
   "execution_count": null,
   "outputs": []
  },
  {
   "source": [
    "## Testing\n",
    "This will calculate the accuracy of the model by comparing today's temperature to tomorrow's temperature and subtracting that from 1 to get the r squared value. The r squared tells us how much error our model has compared to the real data. "
   ],
   "cell_type": "markdown",
   "metadata": {}
  },
  {
   "cell_type": "code",
   "execution_count": null,
   "metadata": {},
   "outputs": [],
   "source": [
    "r_squared=reg.score(x, y)\n",
    "print('R^2 value is %f' %(r_squared))"
   ]
  },
  {
   "source": [
    "## Graph\n",
    "Plot the regression with today's tempature versus tomorrows's temperature"
   ],
   "cell_type": "markdown",
   "metadata": {}
  },
  {
   "cell_type": "code",
   "execution_count": null,
   "id": "transsexual-freedom",
   "metadata": {},
   "outputs": [],
   "source": [
    "plt.plot(x,y,'o')                    # Plot the data points\n",
    "plt.plot(xplt,yplt,'-',linewidth=3)  # Plot the regression line\n",
    "plt.xlabel('Today\\'s temperature')\n",
    "plt.ylabel('Tomorrow\\'s temperature')\n",
    "plt.suptitle('Today\\'s Temperature vs Tomorrow\\'s Temperature in degrees C')\n",
    "plt.grid(True)\n",
    "plt.savefig('linear_reg.png')\n",
    "plt.show()"
   ]
  },
  {
   "cell_type": "code",
   "execution_count": null,
   "metadata": {},
   "outputs": [],
   "source": [
    "xplt = np.array(today_temp).reshape(-1,1)\n",
    "yplt = reg.predict(xplt)\n",
    "day = range(365)\n",
    "dayplt = range(len(yplt))\n",
    "\n",
    "plt.plot(day,y,'o')                    # Plot the data points\n",
    "plt.plot(dayplt,yplt,'-',linewidth=3)  # Plot the regression line\n",
    "plt.xlabel('Day')\n",
    "plt.ylabel('Temperature')\n",
    "plt.suptitle('Predicting Temperature in Degrees C')\n",
    "plt.grid(True)\n",
    "plt.savefig('daily_linear_reg.png')\n",
    "plt.show()"
   ]
  },
  {
   "source": [
    "## Multiple Linear Regression\n",
    "Mutiple Linear regression of 2 variables to improve predicting the weather (today's temp and another variable which may be selected) to produce tomorrow's temp"
   ],
   "cell_type": "markdown",
   "metadata": {}
  },
  {
   "cell_type": "code",
   "execution_count": null,
   "id": "assured-aging",
   "metadata": {},
   "outputs": [],
   "source": [
    "# independent variables\n",
    "numVar = 3\n",
    "var1 = list(map(int, train_data[\"tempC\"].tolist()))\n",
    "var1.pop()\n",
    "var2 = list(map(int, train_data[\"pressure\"].tolist()))\n",
    "var2.pop()\n",
    "var3 = list(map(int, train_data[\"humidity\"].tolist()))\n",
    "\n",
    "# tomorrow temp\n",
    "tomorrow_temp = list(map(int, train_data[\"tempC\"].tolist()))\n",
    "tomorrow_temp.pop(0)\n",
    "\n",
    "# tranform variable\n",
    "sqVar1 = [x*x for x in var1]\n",
    "reciprocalVar1 = np.reciprocal(var1)\n",
    "log10Var1 = np.log10(var1)\n",
    "lnVar1 = np.log(var1)\n",
    "\n",
    "# create x and y arrays\n",
    "x1 = np.array(var1)\n",
    "x2 = np.array(var2)\n",
    "x3 = np.array(var3)\n",
    "y = tomorrow_temp\n",
    "\n",
    "# # Points on the regression line\n",
    "x = []       \n",
    "for i in range(len(x1)):\n",
    "    x.append([x1[i],x2[i],x3[i]])\n",
    "xplt = np.array(x)\n",
    "reg = LinearRegression().fit(xplt, y)\n",
    "\n",
    "yplt = reg.predict(xplt)\n",
    "\n",
    "day = range(365)\n",
    "dayplt = range(len(yplt))\n",
    "\n",
    "#Prints information\n",
    "coefficients = reg.coef_\n",
    "intercept = reg.intercept_\n",
    "correlation = reg.score(xplt,y)\n",
    "for j in range(numVar):\n",
    "    print('slope of x%d is %f' %(j,coefficients[j]))\n",
    "print('intercept is %f' %(intercept))\n",
    "print('correlation is %f' %(correlation))\n",
    "print('y-hat explains about %f%% of variation' %(correlation*100))"
   ]
  },
  {
   "source": [
    "## Graph\n",
    "Plot the multiple linear regression with the domain of temperature, pressure, and humidity"
   ],
   "cell_type": "markdown",
   "metadata": {}
  },
  {
   "cell_type": "code",
   "execution_count": null,
   "metadata": {},
   "outputs": [],
   "source": [
    "plt.plot(day,y,'o')                    # Plot the data points\n",
    "plt.plot(dayplt,yplt,'-',linewidth=3)  # Plot the regression line\n",
    "plt.xlabel('Day')\n",
    "plt.ylabel('Temperature')\n",
    "plt.suptitle('Predicting Tomorrow\\'s Temperature in Degrees C')\n",
    "plt.grid(True)\n",
    "plt.savefig('multi_linear_reg.png')\n",
    "plt.show()"
   ]
  },
  {
   "source": [
    "## Testing\n",
    "This will calculate the accuracy of the multiple linear regression model"
   ],
   "cell_type": "markdown",
   "metadata": {}
  },
  {
   "cell_type": "code",
   "execution_count": null,
   "metadata": {},
   "outputs": [],
   "source": [
    "r_squared=reg.score(xplt, y)\n",
    "print('R^2 value is %f' %(r_squared))"
   ]
  },
  {
   "cell_type": "markdown",
   "id": "cognitive-witch",
   "metadata": {},
   "source": [
    "In this section you may select as much data as you want ot be in the domain of the linear regression. This will serve to demonstrate overtraining and undertraining as well as how some data will be more beniefical to solving a problem while other data is completely independent from the solution."
   ]
  },
  {
   "cell_type": "code",
   "execution_count": null,
   "id": "excited-traveler",
   "metadata": {},
   "outputs": [],
   "source": [
    "# code here sets up a linear regression of n variables"
   ]
  }
 ],
 "metadata": {
  "kernelspec": {
   "name": "python3",
   "display_name": "Python 3.8.8 64-bit",
   "metadata": {
    "interpreter": {
     "hash": "2db524e06e9f5f4ffedc911c917cb75e12dbc923643829bf417064a77eb14d37"
    }
   }
  },
  "language_info": {
   "codemirror_mode": {
    "name": "ipython",
    "version": 3
   },
   "file_extension": ".py",
   "mimetype": "text/x-python",
   "name": "python",
   "nbconvert_exporter": "python",
   "pygments_lexer": "ipython3",
   "version": "3.8.8-final"
  }
 },
 "nbformat": 4,
 "nbformat_minor": 5
}