{
 "cells": [
  {
   "cell_type": "markdown",
   "id": "chief-moderator",
   "metadata": {},
   "source": [
    "This notebook will introduce Machine Learning. After introducing the concept, we will propose a problem to solve using machine learning concepts, implement a simple approach to solving the problem, expand the complexity of our solution while giving you the option to select the data your solution can access. We will finally explore the concept of Neural Networks, after which we will open up to quesitons."
   ]
  },
  {
   "cell_type": "markdown",
   "id": "religious-division",
   "metadata": {},
   "source": [
    "The question we will try to answer with machine learning is: What will the temperature be tomorrow? The weather data we will have access to is from [weather data](https://towardsdatascience.com/obtain-historical-weather-forecast-data-in-csv-format-using-python-5a6c090fc828) "
   ]
  },
  {
   "cell_type": "code",
   "execution_count": 1,
   "id": "another-essex",
   "metadata": {},
   "outputs": [
    {
     "output_type": "stream",
     "name": "stdout",
     "text": [
      "\n",
      "\n",
      "Retrieving weather data for 43210\n",
      "\n",
      "\n",
      "Currently retrieving data for 43210: from 2018-12-25 to 2018-12-31\n",
      "Time elapsed (hh:mm:ss.ms) 0:00:00.619742\n",
      "Currently retrieving data for 43210: from 2019-01-01 to 2019-01-31\n",
      "Time elapsed (hh:mm:ss.ms) 0:00:02.092482\n",
      "Currently retrieving data for 43210: from 2019-02-01 to 2019-02-28\n",
      "Time elapsed (hh:mm:ss.ms) 0:00:03.685798\n",
      "Currently retrieving data for 43210: from 2019-03-01 to 2019-03-31\n",
      "Time elapsed (hh:mm:ss.ms) 0:00:05.085640\n",
      "Currently retrieving data for 43210: from 2019-04-01 to 2019-04-30\n",
      "Time elapsed (hh:mm:ss.ms) 0:00:06.316764\n",
      "Currently retrieving data for 43210: from 2019-05-01 to 2019-05-31\n",
      "Time elapsed (hh:mm:ss.ms) 0:00:07.551450\n",
      "Currently retrieving data for 43210: from 2019-06-01 to 2019-06-30\n",
      "Time elapsed (hh:mm:ss.ms) 0:00:08.731277\n",
      "Currently retrieving data for 43210: from 2019-07-01 to 2019-07-31\n",
      "Time elapsed (hh:mm:ss.ms) 0:00:10.527186\n",
      "Currently retrieving data for 43210: from 2019-08-01 to 2019-08-31\n",
      "Time elapsed (hh:mm:ss.ms) 0:00:12.049917\n",
      "Currently retrieving data for 43210: from 2019-09-01 to 2019-09-30\n",
      "Time elapsed (hh:mm:ss.ms) 0:00:13.287491\n",
      "Currently retrieving data for 43210: from 2019-10-01 to 2019-10-31\n",
      "Time elapsed (hh:mm:ss.ms) 0:00:15.106429\n",
      "Currently retrieving data for 43210: from 2019-11-01 to 2019-11-30\n",
      "Time elapsed (hh:mm:ss.ms) 0:00:17.560360\n",
      "Currently retrieving data for 43210: from 2019-12-01 to 2019-12-25\n",
      "Time elapsed (hh:mm:ss.ms) 0:00:18.976395\n",
      "\n",
      "\n",
      "export 43210 completed!\n",
      "\n",
      "\n"
     ]
    }
   ],
   "source": [
    "# code here shows a sample of the weather data so the user can see the data\n",
    "# they are working with\n",
    "import pandas as pd\n",
    "import numpy as np\n",
    "from wwo_hist import retrieve_hist_data\n",
    "import matplotlib.pyplot as plt\n",
    "import csv\n",
    "from sklearn.linear_model import LinearRegression\n",
    "\n",
    "frequency = 24\n",
    "start_date = '25-DEC-2018'\n",
    "end_date = '25-DEC-2019'\n",
    "api_key = '080bb880d8ba4f43ad5231331211703'\n",
    "location_list = ['43210']\n",
    "hist_weather_data = retrieve_hist_data(api_key,\n",
    "                                location_list,\n",
    "                                start_date,\n",
    "                                end_date,\n",
    "                                frequency,\n",
    "                                location_label = False,\n",
    "                                export_csv = True,\n",
    "                                store_df = True)[0]\n"
   ]
  },
  {
   "cell_type": "markdown",
   "id": "looking-recruitment",
   "metadata": {},
   "source": [
    "Implement a simple linear regression of 1 variable which will serve as a model to predict the temperature tomorrow. The variable within the domain of the linear regression will be today's temperature, which it will use to predict tomorrow's. \n",
    "\n",
    "Weather data will only be from the past year (365 days)\n",
    "Expected outcome is that the linear regression will learn: \n",
    "Tomorrow's Temp = 1 * Today's Temp + 0 degrees\n",
    "\n",
    "It makes sense to expect the outcome of Tomorrow's Temp = 1 * Today's Temp + 0"
   ]
  },
  {
   "cell_type": "markdown",
   "id": "threaded-lottery",
   "metadata": {},
   "source": [
    "A simple linear regression using the temperature on each day to create a model for predicting temperature on a day."
   ]
  },
  {
   "source": [
    "# code to set up the 1 variable simple linear regression\n",
    "\n",
    "today_temp = list(map(int, hist_weather_data[\"tempC\"].tolist()))\n",
    "tomorrow_temp = list(map(int, hist_weather_data[\"tempC\"].tolist()))\n",
    "\n",
    "tomorrow_temp.pop(0)\n",
    "today_temp.pop()\n",
    "\n",
    "x = np.array(today_temp).reshape(-1,1)\n",
    "y = tomorrow_temp\n",
    "\n",
    "reg = LinearRegression().fit(x, y)\n",
    "\n",
    "# Points on the regression line\n",
    "xplt = np.array([min(x) - 2, max(x) + 2])          \n",
    "yplt = reg.predict(xplt)\n",
    "\n",
    "# Prints regression equation\n",
    "coefficients = reg.coef_\n",
    "coefficient = coefficients[0]\n",
    "intercept = reg.intercept_\n",
    "correlation = reg.score(x,y)\n",
    "print('slope is %f' %(coefficient))\n",
    "print('intercept is %f' %(intercept))\n",
    "print('correlation is %f' %(correlation))\n",
    "print('y-hat = %fx + %f explains about %f%% of variation' %(coefficient, intercept, correlation*100))\n",
    "\n"
   ],
   "cell_type": "code",
   "metadata": {},
   "execution_count": null,
   "outputs": []
  },
  {
   "source": [
    "This will calculate the accuracy of the model by comparing today's temperature to tomorrow's temperature and subtracting that from 1 to get the r squared value. The r squared tells us how much error our model has compared to the real data. "
   ],
   "cell_type": "markdown",
   "metadata": {}
  },
  {
   "cell_type": "code",
   "execution_count": 3,
   "metadata": {},
   "outputs": [
    {
     "output_type": "stream",
     "name": "stdout",
     "text": [
      "R^2 value is 0.859467\n"
     ]
    }
   ],
   "source": [
    "r_squared=reg.score(x, y)\n",
    "print('R^2 value is %f' %(r_squared))"
   ]
  },
  {
   "cell_type": "markdown",
   "id": "former-artwork",
   "metadata": {},
   "source": [
    "Plot the regression with today's tempature versus tomorrows's temperature"
   ]
  },
  {
   "cell_type": "code",
   "execution_count": null,
   "id": "transsexual-freedom",
   "metadata": {},
   "outputs": [],
   "source": [
    "plt.plot(x,y,'o')                    # Plot the data points\n",
    "plt.plot(xplt,yplt,'-',linewidth=3)  # Plot the regression line\n",
    "plt.xlabel('Today\\'s temperature')\n",
    "plt.ylabel('Tomorrow\\'s temperature')\n",
    "plt.suptitle('Today\\'s Temperature vs Tomorrow\\'s Temperature in degrees C')\n",
    "plt.grid(True)\n",
    "plt.savefig('linear_reg.png')\n",
    "plt.show()"
   ]
  },
  {
   "cell_type": "markdown",
   "id": "integrated-fifty",
   "metadata": {},
   "source": [
    "Mutiple Linear regression of 2 variables to imrove predicting the weather (today's temp and another variable which may be selected) to produce tomorrow's temp"
   ]
  },
  {
   "cell_type": "code",
   "execution_count": null,
   "id": "assured-aging",
   "metadata": {},
   "outputs": [],
   "source": [
    "# code here sets up a linear regression with today's temp and a variable the\n",
    "# user selects from a list of options as the domain"
   ]
  },
  {
   "cell_type": "markdown",
   "id": "cognitive-witch",
   "metadata": {},
   "source": [
    "In this section you may select as much data as you want ot be in the domain of the linear regression. This will serve to demonstrate overtraining and undertraining as well as how some data will be more beniefical to solving a problem while other data is completely independent from the solution."
   ]
  },
  {
   "cell_type": "code",
   "execution_count": null,
   "id": "excited-traveler",
   "metadata": {},
   "outputs": [],
   "source": [
    "# code here sets up a linear regression of n variables"
   ]
  }
 ],
 "metadata": {
  "kernelspec": {
   "name": "python3",
   "display_name": "Python 3.8.5 64-bit",
   "metadata": {
    "interpreter": {
     "hash": "b697d65fee4bb4f8eddda8b871eeae6acf67f1bd987c9ea8df9421645d760297"
    }
   }
  },
  "language_info": {
   "codemirror_mode": {
    "name": "ipython",
    "version": 3
   },
   "file_extension": ".py",
   "mimetype": "text/x-python",
   "name": "python",
   "nbconvert_exporter": "python",
   "pygments_lexer": "ipython3",
   "version": "3.8.5-final"
  }
 },
 "nbformat": 4,
 "nbformat_minor": 5
}