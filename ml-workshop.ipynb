{
 "cells": [
  {
   "cell_type": "markdown",
   "id": "chief-moderator",
   "metadata": {},
   "source": [
    "# Intro to Machine Learning\n",
    "\n",
    "In this notebook, we will try to solve the problem of predicting tomorrow's temperature though machine learning. We will begin with simple linear regression, move on to multiple linear regression, and finally try to choose a good set of features that best predict tomorrow's temperature."
   ]
  },
  {
   "cell_type": "markdown",
   "id": "religious-division",
   "metadata": {},
   "source": [
    "## Retrieving the Data\n",
    "Let's download some weather data. We will download 2019 weather data to fit our model to and 2020 weather data to test it against. We will be getting the data using [wwo-hist](https://towardsdatascience.com/obtain-historical-weather-forecast-data-in-csv-format-using-python-5a6c090fc828). This code will take a little while to download the data."
   ]
  },
  {
   "cell_type": "code",
   "execution_count": null,
   "id": "another-essex",
   "metadata": {},
   "outputs": [],
   "source": [
    "# code here shows a sample of the weather data so the user can see the data\n",
    "# they are working with\n",
    "import pandas as pd\n",
    "import numpy as np\n",
    "from wwo_hist import retrieve_hist_data\n",
    "import matplotlib.pyplot as plt\n",
    "import csv\n",
    "from sklearn.linear_model import LinearRegression\n",
    "\n",
    "api_key = '080bb880d8ba4f43ad5231331211703'\n",
    "location_list = ['43210']\n",
    "\n",
    "# Download data to train on\n",
    "train_data = retrieve_hist_data(api_key,\n",
    "                                location_list,\n",
    "                                '1-JAN-2019',\n",
    "                                '1-JAN-2020',\n",
    "                                24,\n",
    "                                store_df = True)[0]\n",
    "\n",
    "# Download data to test on\n",
    "test_data = retrieve_hist_data(api_key,\n",
    "                                location_list,\n",
    "                                '1-JAN-2020',\n",
    "                                '1-JAN-2021',\n",
    "                                24,\n",
    "                                store_df = True)[0]\n"
   ]
  },
  {
   "source": [
    "## Examining the Data\n",
    "Let's look at the data that we just downloaded. Here are some of the data we have from 6 different days. Each column is a different type of data that we have access to."
   ],
   "cell_type": "markdown",
   "metadata": {}
  },
  {
   "cell_type": "code",
   "execution_count": null,
   "metadata": {},
   "outputs": [],
   "source": [
    "print(train_data.columns.to_list())\n",
    "train_data.head(6)"
   ]
  },
  {
   "source": [
    "# Simple Linear Regression\n",
    "Now we will try to predict tomorrow's temperature in one of the easiest ways. Linear regression. Through linear regression, we can make predictions by simply scaling our input and adding an offset. The equation for linear regression is y = a + bx\n",
    "\n",
    "In our case, we will predict tomorrow's temperature using today's temperature. This will give us the equation\n",
    "\n",
    "Tomorrow = b * (Today) + a\n",
    "\n",
    "Using our data from 2019, we will fit this model to our data. By that, we mean that we will learn the value of a and b that best match our data."
   ],
   "cell_type": "markdown",
   "metadata": {}
  },
  {
   "source": [
    "# code to set up the 1 variable simple linear regression\n",
    "\n",
    "temps = np.array(train_data[\"tempC\"], float)\n",
    "\n",
    "# Shift temperatures so for any row, today_temp has todays temp\n",
    "# And tomorrow_temp has the temperature for the next day\n",
    "today_temp = temps[:-1]\n",
    "tomorrow_temp = temps[1:]\n",
    "\n",
    "x = np.array([today_temp]).T\n",
    "y = tomorrow_temp\n",
    "\n",
    "simple_reg = LinearRegression().fit(x, y)\n",
    "\n",
    "# Prints regression equation\n",
    "coefficients = simple_reg.coef_\n",
    "coefficient = coefficients[0]\n",
    "intercept = simple_reg.intercept_\n",
    "correlation = simple_reg.score(x,y)\n",
    "print('slope is %f' %(coefficient))\n",
    "print('intercept is %f' %(intercept))\n",
    "print('correlation is %f' %(correlation))\n",
    "print('y-hat = %fx + %f explains about %f%% of variation' %(coefficient, intercept, correlation*100))\n",
    "\n"
   ],
   "cell_type": "code",
   "metadata": {},
   "execution_count": null,
   "outputs": []
  },
  {
   "source": [
    "## Graph\n",
    "Plot the regression with today's temperature versus tomorrows's temperature"
   ],
   "cell_type": "markdown",
   "metadata": {}
  },
  {
   "cell_type": "code",
   "execution_count": null,
   "id": "transsexual-freedom",
   "metadata": {},
   "outputs": [],
   "source": [
    "# Points on the regression line\n",
    "xplt = np.array([min(x) - 2, max(x) + 2])          \n",
    "yhat = simple_reg.predict(xplt)\n",
    "\n",
    "# Create plot\n",
    "plt.plot(x,y,'o')                    # Plot the data points\n",
    "plt.plot(xplt,yhat,'-',linewidth=3)  # Plot the regression line\n",
    "plt.xlabel('Today\\'s temperature °C')\n",
    "plt.ylabel('Tomorrow\\'s temperature °C')\n",
    "plt.suptitle('Today\\'s Temperature vs Tomorrow\\'s Temperature in °C')\n",
    "plt.grid(True)\n",
    "plt.savefig('linear_reg.png')\n",
    "plt.show()"
   ]
  },
  {
   "source": [
    "Plot the simple linear regression model's prediction for each day of 2019."
   ],
   "cell_type": "markdown",
   "metadata": {}
  },
  {
   "cell_type": "code",
   "execution_count": null,
   "metadata": {},
   "outputs": [],
   "source": [
    "# Points on the regression line\n",
    "yhat = simple_reg.predict(x)\n",
    "day = range(len(today_temp))\n",
    "dayplt = range(len(yhat))\n",
    "\n",
    "# Create plot\n",
    "plt.plot(day,y,'o')                    # Plot the data points\n",
    "plt.plot(dayplt,yhat,'-',linewidth=3)  # Plot the regression line\n",
    "plt.xlabel('Day')\n",
    "plt.ylabel('Temperature °C')\n",
    "plt.suptitle('Predicting Temperature in °C')\n",
    "plt.grid(True)\n",
    "plt.savefig('daily_linear_reg.png')\n",
    "plt.show()"
   ]
  },
  {
   "source": [
    "## Testing\n",
    "This will calculate the accuracy of the model by comparing today's temperature to tomorrow's temperature and subtracting that from 1 to get the r squared value. The r squared tells us how much error our model has compared to the real data. "
   ],
   "cell_type": "markdown",
   "metadata": {}
  },
  {
   "cell_type": "code",
   "execution_count": null,
   "metadata": {},
   "outputs": [],
   "source": [
    "temps = np.array(test_data[\"tempC\"], float)\n",
    "\n",
    "# Shift temperatures so for any row, today_temp has todays temp\n",
    "# And tomorrow_temp has the temperature for the next day\n",
    "today_temp = temps[:-1]\n",
    "tomorrow_temp = temps[1:]\n",
    "\n",
    "x_test = np.array([today_temp]).T\n",
    "y_test = tomorrow_temp\n",
    "\n",
    "r_squared = simple_reg.score(x_test, y_test)\n",
    "print('Score on test data is %f%%' % (r_squared * 100))"
   ]
  },
  {
   "source": [
    "## Multiple Linear Regression\n",
    "Mutiple Linear regression of 3 variables to improve predicting the weather to produce tomorrow's temp"
   ],
   "cell_type": "markdown",
   "metadata": {}
  },
  {
   "source": [
    "Set the independent variables."
   ],
   "cell_type": "markdown",
   "metadata": {}
  },
  {
   "cell_type": "code",
   "execution_count": null,
   "metadata": {},
   "outputs": [],
   "source": [
    "# independent variables\n",
    "var1 = list(map(int, train_data[\"tempC\"].tolist()))[:-1]\n",
    "var2 = list(map(int, train_data[\"pressure\"].tolist()))[:-1]\n",
    "var3 = list(map(int, train_data[\"humidity\"].tolist()))[:-1]"
   ]
  },
  {
   "source": [
    "Calculate mulitple linear regression for the independent variables."
   ],
   "cell_type": "markdown",
   "metadata": {}
  },
  {
   "cell_type": "code",
   "execution_count": null,
   "id": "assured-aging",
   "metadata": {},
   "outputs": [],
   "source": [
    "# Points on the regression line\n",
    "xplt = np.array(list(zip(var1, var2, var3)))\n",
    "multi_reg = LinearRegression().fit(xplt, y)\n",
    "\n",
    "yhat = multi_reg.predict(xplt)\n",
    "\n",
    "day = range(len(y))\n",
    "dayplt = range(len(yhat))\n",
    "\n",
    "#Prints information\n",
    "coefficients = multi_reg.coef_\n",
    "intercept = multi_reg.intercept_\n",
    "correlation = multi_reg.score(xplt,y)\n",
    "numVar = (xplt.shape)[1]\n",
    "for j in range(numVar):\n",
    "    print('slope of x_%d is %f' %(j,coefficients[j]))\n",
    "print('intercept is %f' %(intercept))\n",
    "print('correlation is %f' %(correlation))\n",
    "print('y-hat explains about %f%% of variation' %(correlation*100))"
   ]
  },
  {
   "source": [
    "## Graph\n",
    "Plot the multiple linear regression model's prediction for each day of 2019."
   ],
   "cell_type": "markdown",
   "metadata": {}
  },
  {
   "cell_type": "code",
   "execution_count": null,
   "metadata": {},
   "outputs": [],
   "source": [
    "plt.plot(day,y,'o')                    # Plot the data points\n",
    "plt.plot(dayplt,yhat,'-',linewidth=3)  # Plot the regression line\n",
    "plt.xlabel('Day')\n",
    "plt.ylabel('Temperature °C')\n",
    "plt.suptitle('Predicting Tomorrow\\'s Temperature in °C')\n",
    "plt.grid(True)\n",
    "plt.savefig('multi_linear_reg.png')\n",
    "plt.show()"
   ]
  },
  {
   "source": [
    "Plot the predicted versus actual temperature."
   ],
   "cell_type": "markdown",
   "metadata": {}
  },
  {
   "cell_type": "code",
   "execution_count": null,
   "metadata": {},
   "outputs": [],
   "source": [
    "plt.plot(yhat,y,'o')\n",
    "plt.xlabel('Predicted Temperature °C')\n",
    "plt.ylabel('Actual Temperature °C')\n",
    "plt.suptitle('Predicted vs Actual Temperature in °C')\n",
    "plt.grid(True)\n",
    "plt.savefig('plot_multi_linear_reg.png')\n",
    "plt.show()"
   ]
  },
  {
   "source": [
    "## Testing\n",
    "Calculate how close the multiple linear regression model fits temperature data from another year"
   ],
   "cell_type": "markdown",
   "metadata": {}
  },
  {
   "cell_type": "code",
   "execution_count": null,
   "metadata": {},
   "outputs": [],
   "source": [
    "# independent variables\n",
    "var1 = list(map(int, test_data[\"tempC\"].tolist()))[:-1]\n",
    "var2 = list(map(int, test_data[\"pressure\"].tolist()))[:-1]\n",
    "var3 = list(map(int, test_data[\"humidity\"].tolist()))[:-1]\n",
    "\n",
    "x_test = np.array(list(zip(var1, var2, var3)))\n",
    "y_test = np.array(test_data[\"tempC\"], np.float)[1:]\n",
    "\n",
    "r_squared = multi_reg.score(x_test, y_test)\n",
    "print('Score on test data is %f%%' % (r_squared * 100))"
   ]
  },
  {
   "cell_type": "markdown",
   "id": "cognitive-witch",
   "metadata": {},
   "source": [
    "# Deciding Features\n",
    "\n",
    "In this section, we are going to see just how good of a model we can make. As an example, we made a model that is trained on every feature that can be traned on as well as some transformed features. As you can expect, this scores very well on the training data."
   ]
  },
  {
   "cell_type": "code",
   "execution_count": null,
   "id": "excited-traveler",
   "metadata": {},
   "outputs": [],
   "source": [
    "# Put together all the features we want to train on\n",
    "def extract_features(data):\n",
    "    return np.array([\n",
    "            np.array(data[\"maxtempC\"], float),                  # Every datafield given\n",
    "            np.array(data[\"mintempC\"], float),\n",
    "            np.array(data[\"totalSnow_cm\"], float),              \n",
    "            np.array(data[\"sunHour\"], float),\n",
    "            np.array(data[\"uvIndex\"], float),\n",
    "            np.array(data[\"moon_illumination\"], float),\n",
    "            np.array(data[\"DewPointC\"], float),\n",
    "            np.array(data[\"FeelsLikeC\"], float),\n",
    "            np.array(data[\"HeatIndexC\"], float),\n",
    "            np.array(data[\"WindChillC\"], float),\n",
    "            np.array(data[\"WindGustKmph\"], float),\n",
    "            np.array(data[\"cloudcover\"], float),\n",
    "            np.array(data[\"humidity\"], float),\n",
    "            np.array(data[\"precipMM\"], float),\n",
    "            np.array(data[\"pressure\"], float),\n",
    "            np.array(data[\"tempC\"], float),\n",
    "            np.array(data[\"visibility\"], float),\n",
    "            np.array(data[\"winddirDegree\"], float),\n",
    "            np.array(data[\"windspeedKmph\"], float),\n",
    "            np.array(data[\"maxtempC\"], float) ** 2,             # Every datafield squared\n",
    "            np.array(data[\"mintempC\"], float) ** 2,\n",
    "            np.array(data[\"totalSnow_cm\"], float) ** 2,\n",
    "            np.array(data[\"sunHour\"], float) ** 2,\n",
    "            np.array(data[\"uvIndex\"], float) ** 2,\n",
    "            np.array(data[\"moon_illumination\"], float) ** 2,    \n",
    "            np.array(data[\"DewPointC\"], float) ** 2,\n",
    "            np.array(data[\"FeelsLikeC\"], float) ** 2,\n",
    "            np.array(data[\"HeatIndexC\"], float) ** 2,\n",
    "            np.array(data[\"WindChillC\"], float) ** 2,\n",
    "            np.array(data[\"WindGustKmph\"], float) ** 2,\n",
    "            np.array(data[\"cloudcover\"], float) ** 2,\n",
    "            np.array(data[\"humidity\"], float) ** 2,\n",
    "            np.array(data[\"precipMM\"], float) ** 2,\n",
    "            np.array(data[\"pressure\"], float) ** 2,\n",
    "            np.array(data[\"tempC\"], float) ** 2,\n",
    "            np.array(data[\"visibility\"], float) ** 2,\n",
    "            np.array(data[\"winddirDegree\"], float) ** 2,\n",
    "            np.array(data[\"windspeedKmph\"], float) ** 2,\n",
    "            np.sin(np.array(data[\"visibility\"], float)),        # Sin, log, sqrt, and inverse of visibility\n",
    "            np.log(np.array(data[\"visibility\"], float)),\n",
    "            np.sqrt(np.array(data[\"visibility\"], float)),\n",
    "    ]).T[:-1]\n",
    "\n",
    "X = extract_features(train_data)\n",
    "y = np.array(train_data[\"tempC\"], float)[1:]\n",
    "\n",
    "feature_reg = LinearRegression().fit(X, y)\n",
    "\n",
    "# Print info about regression\n",
    "coefficients = feature_reg.coef_\n",
    "intercept = feature_reg.intercept_\n",
    "correlation = feature_reg.score(X,y)\n",
    "for j in range(X.shape[1]):\n",
    "    print('slope of feature %d is %f' %(j+1 ,coefficients[j]))\n",
    "print('intercept is %f' %(intercept))\n",
    "print('Score on train data is %f%%' % (correlation * 100))"
   ]
  },
  {
   "cell_type": "code",
   "execution_count": null,
   "metadata": {},
   "outputs": [],
   "source": [
    "# predicted vs actual\n",
    "yhat = feature_reg.predict(X)\n",
    "plt.plot(yhat,y,'o')\n",
    "plt.xlabel('Predicted Temperature °C')\n",
    "plt.ylabel('Actual Temperature °C')\n",
    "plt.suptitle('Predicted vs Actual Temperature in °C')\n",
    "plt.grid(True)\n",
    "plt.savefig('plot_multi_linear_reg.png')\n",
    "plt.show()"
   ]
  },
  {
   "source": [
    "## Testing\n",
    "\n",
    "Now lets see how it performs on the test data. In this example, where we trained on everyhting, the test data prediction is poor. This can be expected, because by giving our model many features, we allowed it to overfit on our training data."
   ],
   "cell_type": "markdown",
   "metadata": {}
  },
  {
   "cell_type": "code",
   "execution_count": null,
   "metadata": {},
   "outputs": [],
   "source": [
    "X_test = extract_features(test_data)\n",
    "y_test = np.array(test_data[\"tempC\"], float)[1:]\n",
    "\n",
    "r_squared = feature_reg.score(X_test, y_test)\n",
    "print('Score on test data is %f%%' % (r_squared * 100))"
   ]
  },
  {
   "source": [
    "# Your turn\n",
    "\n",
    "Go back through the deciding features section and see how high you can get the test score!"
   ],
   "cell_type": "markdown",
   "metadata": {}
  }
 ],
 "metadata": {
  "kernelspec": {
   "name": "python388jvsc74a57bd02db524e06e9f5f4ffedc911c917cb75e12dbc923643829bf417064a77eb14d37",
   "display_name": "Python 3.8.8 64-bit"
  },
  "language_info": {
   "codemirror_mode": {
    "name": "ipython",
    "version": 3
   },
   "file_extension": ".py",
   "mimetype": "text/x-python",
   "name": "python",
   "nbconvert_exporter": "python",
   "pygments_lexer": "ipython3",
   "version": "3.8.8"
  },
  "metadata": {
   "interpreter": {
    "hash": "2db524e06e9f5f4ffedc911c917cb75e12dbc923643829bf417064a77eb14d37"
   }
  }
 },
 "nbformat": 4,
 "nbformat_minor": 5
}